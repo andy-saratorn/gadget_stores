{
 "cells": [
  {
   "cell_type": "code",
   "execution_count": 1,
   "id": "66422754",
   "metadata": {},
   "outputs": [],
   "source": [
    "import os\n",
    "import time\n",
    "import pandas as pd\n",
    "from tqdm import notebook\n",
    "from datetime import date, datetime\n",
    "\n",
    "from selenium import webdriver\n",
    "from selenium.webdriver.common.by import By\n",
    "from selenium.webdriver.common.keys import Keys"
   ]
  },
  {
   "cell_type": "code",
   "execution_count": 2,
   "id": "75cdc0e3",
   "metadata": {},
   "outputs": [],
   "source": [
    "class_video = \"style-scope ytd-rich-grid-media\"\n",
    "x_path_body = \"\"\"//*[@id=\"primary\"]\"\"\"\n",
    "xpath_video = \"\"\"//*[@id=\"meta\"]\"\"\"\n",
    "xpath_video_title = \"\"\"//*[@id=\"video-title\"]\"\"\"\n",
    "xpath_views = \"\"\"//*[@id=\"metadata-line\"]/span[1]\"\"\"\n",
    "xpath_time_posted = \"\"\"//*[@id=\"metadata-line\"]/span[2]\"\"\""
   ]
  },
  {
   "cell_type": "code",
   "execution_count": 3,
   "id": "2568b23a",
   "metadata": {},
   "outputs": [],
   "source": [
    "channels = ['munkonggadgetREVIEWS','Mercular']"
   ]
  },
  {
   "cell_type": "code",
   "execution_count": 4,
   "id": "78f3a276",
   "metadata": {},
   "outputs": [
    {
     "data": {
      "application/vnd.jupyter.widget-view+json": {
       "model_id": "d6d409ab1df74ed1846ac74576031c11",
       "version_major": 2,
       "version_minor": 0
      },
      "text/plain": [
       "  0%|          | 0/2 [00:00<?, ?it/s]"
      ]
     },
     "metadata": {},
     "output_type": "display_data"
    }
   ],
   "source": [
    "try:\n",
    "    driver.quit()\n",
    "except Exception:\n",
    "    pass\n",
    "\n",
    "options = webdriver.ChromeOptions() \n",
    "options.add_argument('--headless') \n",
    "    \n",
    "df = None\n",
    "for channel in notebook.tqdm(channels):\n",
    "    url = f\"https://www.youtube.com/@{channel}/videos\"\n",
    "    driver = webdriver.Chrome(options=options)\n",
    "    driver.get(url)\n",
    "\n",
    "    video_titles = driver.find_elements(By.XPATH, xpath_video_title)\n",
    "    last_n_videos = len(video_titles)\n",
    "    # scroll down\n",
    "    while True:\n",
    "        for i in range(10):\n",
    "            element = driver.find_element(By.XPATH, \"/html/body\")\n",
    "            element.send_keys(Keys.PAGE_DOWN)\n",
    "            time.sleep(1)\n",
    "        video_titles = driver.find_elements(By.XPATH, xpath_video_title)\n",
    "        new_n_videos = len(video_titles)\n",
    "        if new_n_videos == last_n_videos:\n",
    "            break\n",
    "        last_n_videos = new_n_videos\n",
    "    \n",
    "    views = driver.find_elements(By.XPATH, xpath_views)\n",
    "    time_posted = driver.find_elements(By.XPATH, xpath_time_posted)\n",
    "    video_attributes = {\n",
    "        'video_title':[x.text for x in video_titles],\n",
    "        'views':[x.text for x in views],\n",
    "        'time_posted':[x.text for x in time_posted],\n",
    "    }\n",
    "    df_i = pd.DataFrame(video_attributes)\n",
    "    df_i['channel'] = channel\n",
    "    df_i['time_scrapped'] = datetime.now()\n",
    "    df = pd.concat([df, df_i])\n",
    "    driver.quit()"
   ]
  },
  {
   "cell_type": "code",
   "execution_count": 5,
   "id": "2cbf18fb",
   "metadata": {},
   "outputs": [],
   "source": [
    "if not os.path.isdir('./data'):\n",
    "    os.makedirs('./data')"
   ]
  },
  {
   "cell_type": "code",
   "execution_count": 6,
   "id": "73cbd43a",
   "metadata": {},
   "outputs": [],
   "source": [
    "df.to_parquet(f'./data/gadget_youtube_{date.today()}.parquet')"
   ]
  }
 ],
 "metadata": {
  "kernelspec": {
   "display_name": "Python 3",
   "language": "python",
   "name": "python3"
  },
  "language_info": {
   "codemirror_mode": {
    "name": "ipython",
    "version": 3
   },
   "file_extension": ".py",
   "mimetype": "text/x-python",
   "name": "python",
   "nbconvert_exporter": "python",
   "pygments_lexer": "ipython3",
   "version": "3.8.8"
  },
  "toc": {
   "base_numbering": 1,
   "nav_menu": {},
   "number_sections": true,
   "sideBar": true,
   "skip_h1_title": false,
   "title_cell": "Table of Contents",
   "title_sidebar": "Contents",
   "toc_cell": false,
   "toc_position": {},
   "toc_section_display": true,
   "toc_window_display": false
  }
 },
 "nbformat": 4,
 "nbformat_minor": 5
}
