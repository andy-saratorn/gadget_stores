{
 "cells": [
  {
   "cell_type": "code",
   "execution_count": 1,
   "id": "66422754",
   "metadata": {},
   "outputs": [],
   "source": [
    "import os\n",
    "import time\n",
    "import pandas as pd\n",
    "from tqdm import notebook\n",
    "from datetime import date, datetime\n",
    "\n",
    "from bs4 import BeautifulSoup\n",
    "from selenium import webdriver\n",
    "from selenium.webdriver.common.by import By\n",
    "from selenium.webdriver.common.keys import Keys"
   ]
  },
  {
   "cell_type": "code",
   "execution_count": 2,
   "id": "f121a362",
   "metadata": {},
   "outputs": [],
   "source": [
    "if not os.path.isdir('./html'):\n",
    "    os.makedirs('./html')"
   ]
  },
  {
   "cell_type": "code",
   "execution_count": 1,
   "id": "2fbaadd2",
   "metadata": {
    "code_folding": []
   },
   "outputs": [],
   "source": [
    "df_items = None\n",
    "\n",
    "for shop_name in [\"munkonggadget\",\"mercular.official.store\"]:\n",
    "    for p in notebook.tqdm(range(10)):\n",
    "        url = f'https://shopee.co.th/{shop_name}?page={p}&sortBy=pop'\n",
    "        # open website\n",
    "        options = webdriver.ChromeOptions()\n",
    "        options.add_argument(r\"--user-data-dir=/Users/saratorn.s/Library/Application Support/Google/Chrome/Profile 1\") \n",
    "#         options.add_argument(\"--headless=new\")\n",
    "        try:\n",
    "            driver.quit()\n",
    "        except Exception:\n",
    "            pass\n",
    "        driver = webdriver.Chrome(options=options)\n",
    "        driver.get(url)\n",
    "        driver.execute_script(\"document.body.style.zoom='10%'\")\n",
    "        # scroll down\n",
    "        for i in range(10):\n",
    "            try:\n",
    "                element = driver.find_element(By.XPATH, \"/html/body\")\n",
    "                element.send_keys(Keys.PAGE_DOWN)\n",
    "                break\n",
    "            except Exception:\n",
    "                time.sleep(2)\n",
    "                pass\n",
    "        # items element\n",
    "        while True:\n",
    "            soup = BeautifulSoup(driver.page_source, 'lxml')\n",
    "            item_class = \"shop-search-result-view__item col-xs-2-4\"\n",
    "            items = soup.find_all('div', class_=item_class)\n",
    "            time.sleep(5)\n",
    "            if len(items) > 0:\n",
    "                break\n",
    "        # get the data\n",
    "        for item in items:\n",
    "            item_name = item.find('div', class_=\"NxFDlV\").text.strip()\n",
    "            price = item.find('span', class_=\"_0ZJOIv\").text.strip()\n",
    "            items_sold = item.find('div', class_=\"sPnnFI AGQcTN\")\n",
    "            if items_sold is None:\n",
    "                items_sold = \"ขายแล้ว 0 ชิ้น\"\n",
    "            else:\n",
    "                items_sold = items_sold.text.strip()\n",
    "            df_item = pd.DataFrame({'item_name':[item_name],\n",
    "                                     'price':[price],\n",
    "                                     'items_sold':[items_sold]})\n",
    "            df_item['page'] = p + 1\n",
    "            df_item['shop_name'] = shop_name\n",
    "            df_items = pd.concat([df_items, df_item])"
   ]
  },
  {
   "cell_type": "code",
   "execution_count": null,
   "id": "c3a40dc1",
   "metadata": {},
   "outputs": [],
   "source": [
    "if not os.path.isdir('./data'):\n",
    "    os.makedirs('./data')"
   ]
  },
  {
   "cell_type": "code",
   "execution_count": null,
   "id": "472b5c28",
   "metadata": {},
   "outputs": [],
   "source": [
    "df_items['scraped_date'] = date.today()\n",
    "df_items.to_parquet(f'./data/gadget_shopee_{date.today()}.parquet')"
   ]
  }
 ],
 "metadata": {
  "kernelspec": {
   "display_name": "Python 3",
   "language": "python",
   "name": "python3"
  },
  "language_info": {
   "codemirror_mode": {
    "name": "ipython",
    "version": 3
   },
   "file_extension": ".py",
   "mimetype": "text/x-python",
   "name": "python",
   "nbconvert_exporter": "python",
   "pygments_lexer": "ipython3",
   "version": "3.8.8"
  },
  "toc": {
   "base_numbering": 1,
   "nav_menu": {},
   "number_sections": true,
   "sideBar": true,
   "skip_h1_title": false,
   "title_cell": "Table of Contents",
   "title_sidebar": "Contents",
   "toc_cell": false,
   "toc_position": {},
   "toc_section_display": true,
   "toc_window_display": false
  }
 },
 "nbformat": 4,
 "nbformat_minor": 5
}
